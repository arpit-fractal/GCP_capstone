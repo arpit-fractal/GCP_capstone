{
  "cells": [
    {
      "cell_type": "markdown",
      "source": [
        "# Installation and Importing libraries"
      ],
      "metadata": {
        "id": "0axQh3fmbWbF"
      },
      "id": "0axQh3fmbWbF"
    },
    {
      "cell_type": "code",
      "source": [
        "#You need to start with installing Faker and psycopg2\n",
        "!pip install Faker\n",
        "!pip install psycopg2"
      ],
      "metadata": {
        "colab": {
          "base_uri": "https://localhost:8080/"
        },
        "id": "5WAdZWGhobO9",
        "outputId": "48777caf-8428-41f8-f038-89a900eeed1f"
      },
      "id": "5WAdZWGhobO9",
      "execution_count": null,
      "outputs": [
        {
          "output_type": "stream",
          "name": "stdout",
          "text": [
            "Collecting Faker\n",
            "  Downloading Faker-19.9.0-py3-none-any.whl (1.7 MB)\n",
            "\u001b[?25l     \u001b[90m━━━━━━━━━━━━━━━━━━━━━━━━━━━━━━━━━━━━━━━━\u001b[0m \u001b[32m0.0/1.7 MB\u001b[0m \u001b[31m?\u001b[0m eta \u001b[36m-:--:--\u001b[0m\r\u001b[2K     \u001b[91m━━\u001b[0m\u001b[91m╸\u001b[0m\u001b[90m━━━━━━━━━━━━━━━━━━━━━━━━━━━━━━━━━━━━━\u001b[0m \u001b[32m0.1/1.7 MB\u001b[0m \u001b[31m3.1 MB/s\u001b[0m eta \u001b[36m0:00:01\u001b[0m\r\u001b[2K     \u001b[91m━━━━━━━━━━━━━━━━━━━━━━━━━━━━━━━━━━━━━━━\u001b[0m\u001b[91m╸\u001b[0m \u001b[32m1.7/1.7 MB\u001b[0m \u001b[31m28.3 MB/s\u001b[0m eta \u001b[36m0:00:01\u001b[0m\r\u001b[2K     \u001b[90m━━━━━━━━━━━━━━━━━━━━━━━━━━━━━━━━━━━━━━━━\u001b[0m \u001b[32m1.7/1.7 MB\u001b[0m \u001b[31m22.4 MB/s\u001b[0m eta \u001b[36m0:00:00\u001b[0m\n",
            "\u001b[?25hRequirement already satisfied: python-dateutil>=2.4 in /usr/local/lib/python3.10/dist-packages (from Faker) (2.8.2)\n",
            "Requirement already satisfied: six>=1.5 in /usr/local/lib/python3.10/dist-packages (from python-dateutil>=2.4->Faker) (1.16.0)\n",
            "Installing collected packages: Faker\n",
            "Successfully installed Faker-19.9.0\n",
            "Requirement already satisfied: psycopg2 in /usr/local/lib/python3.10/dist-packages (2.9.9)\n"
          ]
        }
      ]
    },
    {
      "cell_type": "code",
      "execution_count": 2,
      "metadata": {
        "id": "chJeu1vhnmNe"
      },
      "outputs": [],
      "source": [
        "#Faker library for synthetic data generation in Indian context\n",
        "from faker import Faker\n",
        "fake = Faker('en_IN')\n",
        "\n",
        "#Libraries to help with SQL connection\n",
        "import psycopg2\n",
        "from psycopg2.extensions import ISOLATION_LEVEL_AUTOCOMMIT\n",
        "from sqlalchemy import create_engine\n",
        "\n",
        "#Misc. libraries to work with pandas and others\n",
        "import pandas as pd\n",
        "import numpy as np\n",
        "from datetime import datetime, timedelta\n",
        "import random\n",
        "import math\n",
        "import os"
      ],
      "id": "chJeu1vhnmNe"
    },
    {
      "cell_type": "markdown",
      "source": [
        "#Make a connection to sql"
      ],
      "metadata": {
        "id": "VRDP83_uLALh"
      },
      "id": "VRDP83_uLALh"
    },
    {
      "cell_type": "code",
      "source": [
        "#Set the frequently used credentials\n",
        "USER = \"postgres\"\n",
        "PASSWORD = \"123\"\n",
        "HOST = \"34.93.118.74\"\n",
        "PORT = \"5432\""
      ],
      "metadata": {
        "id": "lLEEXWre4It3"
      },
      "id": "lLEEXWre4It3",
      "execution_count": 3,
      "outputs": []
    },
    {
      "cell_type": "code",
      "source": [
        "#Make a connection to the database\n",
        "conn = psycopg2.connect(\n",
        "    host = HOST,\n",
        "    database = 'oltp',\n",
        "    user = USER,\n",
        "    password = PASSWORD\n",
        ")\n",
        "\n",
        "#Use this to be able to run query without the commit command\n",
        "conn.set_isolation_level(ISOLATION_LEVEL_AUTOCOMMIT)"
      ],
      "metadata": {
        "id": "wmUAfeSALCmt"
      },
      "id": "wmUAfeSALCmt",
      "execution_count": 8,
      "outputs": []
    },
    {
      "cell_type": "code",
      "source": [
        "#Get the current maximum Ids to generate the further dataset.\n",
        "cur = conn.cursor()\n",
        "\n",
        "cur.execute('SELECT max(orderid) from order_details;')\n",
        "max_orderid = cur.fetchall()\n",
        "max_orderid = max_orderid[0][0]\n",
        "\n",
        "cur.execute('SELECT max(customerid) from customer_master;')\n",
        "max_customerid = cur.fetchall()\n",
        "max_customerid = max_customerid[0][0]\n",
        "\n",
        "cur.execute('SELECT max(productid) from product_master;')\n",
        "max_productid = cur.fetchall()\n",
        "max_productid = max_productid[0][0]\n",
        "\n",
        "#Get the customer table\n",
        "customer_master = pd.read_sql(text(\"select * from customer_master\"), conn)"
      ],
      "metadata": {
        "id": "aOsNIOi-LN0t"
      },
      "id": "aOsNIOi-LN0t",
      "execution_count": 13,
      "outputs": []
    },
    {
      "cell_type": "markdown",
      "source": [
        "#Order details"
      ],
      "metadata": {
        "id": "9by0uXgKtJbI"
      },
      "id": "9by0uXgKtJbI"
    },
    {
      "cell_type": "code",
      "source": [
        "#Set the fields for the new df\n",
        "order_details_fields = ['orderid','customerid','order_status_update_timestamp','order_status']\n",
        "\n",
        "#Create the new df with 5000 rows for these new orders\n",
        "orders_Received = pd.DataFrame(columns=order_details_fields, index = range(1,5001))\n",
        "orders_InProgress = pd.DataFrame(columns=order_details_fields, index = range(1,5001))\n",
        "orders_Delivered = pd.DataFrame(columns=order_details_fields, index = range(1,5001))"
      ],
      "metadata": {
        "id": "jzgzfCArTRfp"
      },
      "id": "jzgzfCArTRfp",
      "execution_count": 14,
      "outputs": []
    },
    {
      "cell_type": "code",
      "source": [
        "#For order status recieved\n",
        "max_orderid_temp = max_orderid + 1\n",
        "for i in range(1, 5001):\n",
        "    orders_Received['orderid'][i] = max_orderid_temp\n",
        "    orders_Received['customerid'][i] = fake.random_element(customer_master['customerid'])\n",
        "    orders_Received['order_status_update_timestamp'][i] = datetime.datetime.today() + timedelta(seconds=fake.random_int(min=1, max=86400))\n",
        "    orders_Received['order_status'] = 'Received'\n",
        "    max_orderid_temp = max_orderid_temp + 1\n",
        "\n",
        "\n",
        "\n",
        "#For order status InProgress\n",
        "max_orderid_temp = max_orderid + 1\n",
        "for i in range(1, 5001):\n",
        "    orders_InProgress['orderid'][i] = max_orderid_temp\n",
        "    orders_InProgress['customerid'][i] = orders_Received['customerid'][i]\n",
        "    orders_InProgress['order_status_update_timestamp'][i] = orders_Received['order_status_update_timestamp'][i]\n",
        "    orders_InProgress['order_status'] = 'InProgress'\n",
        "\n",
        "#For order status Delivered\n",
        "max_orderid_temp = max_orderid + 1\n",
        "for i in range(1, 5001):\n",
        "    orders_Delivered['orderid'][i] = max_orderid_temp\n",
        "    orders_Delivered['customerid'][i] = orders_Received['customerid'][i]\n",
        "    orders_Delivered['order_status_update_timestamp'][i] = orders_InProgress['order_status_update_timestamp'][i]\n",
        "    orders_Delivered['order_status'] = 'Delivered'"
      ],
      "metadata": {
        "id": "gP_XFtnUdRQc"
      },
      "id": "gP_XFtnUdRQc",
      "execution_count": null,
      "outputs": []
    },
    {
      "cell_type": "code",
      "source": [
        "#concat the dataframes\n",
        "order_details = pd.concat([orders_Received, orders_InProgress, orders_Delivered], axis=0)"
      ],
      "metadata": {
        "id": "uTfIZ7pis_cK"
      },
      "id": "uTfIZ7pis_cK",
      "execution_count": null,
      "outputs": []
    },
    {
      "cell_type": "markdown",
      "source": [
        "#Order items"
      ],
      "metadata": {
        "id": "mj5VOglItNn6"
      },
      "id": "mj5VOglItNn6"
    },
    {
      "cell_type": "code",
      "source": [
        "#Set the fields for the new df\n",
        "order_items = pd.DataFrame(columns = ['orderid','productid','quantity'], index = range(1, 30001))"
      ],
      "metadata": {
        "id": "qGh9cEAvtAP4"
      },
      "id": "qGh9cEAvtAP4",
      "execution_count": null,
      "outputs": []
    },
    {
      "cell_type": "code",
      "source": [
        "max_orderid_temp = max_orderid + 1\n",
        "for i in range(1, 5001):\n",
        "    order_items['orderid'][i] = max_orderid_temp\n",
        "    order_items['productid'][i] = fake.random_int(1,100)\n",
        "    order_items['quantity'][i] = fake.random_int(1,5)\n",
        "    max_orderid_temp = max_orderid_temp + 1"
      ],
      "metadata": {
        "id": "kG8K2DGvtTPo"
      },
      "id": "kG8K2DGvtTPo",
      "execution_count": null,
      "outputs": []
    },
    {
      "cell_type": "markdown",
      "source": [
        "# Upload data"
      ],
      "metadata": {
        "id": "fN8yK8tU9krF"
      },
      "id": "fN8yK8tU9krF"
    },
    {
      "cell_type": "code",
      "source": [
        "# Create a cursor object\n",
        "cur = conn.cursor()\n",
        "\n",
        "# Create the sqlalchemy engine\n",
        "engine = create_engine(f\"postgresql+psycopg2://{USER}:{PASSWORD}@{HOST}:{PORT}/{'oltp'}\")\n",
        "\n",
        "# Now we use the pandas to_sql command to convert and upload the data to the respective tables\n",
        "order_details.to_sql('order_details', engine, if_exists='append', index=False)\n",
        "order_items.to_sql('order_items', engine, if_exists='append', index=False)\n",
        "\n",
        "#Close the cursor\n",
        "cur.close()"
      ],
      "metadata": {
        "id": "QJCw6Dnmv0bb"
      },
      "id": "QJCw6Dnmv0bb",
      "execution_count": null,
      "outputs": []
    }
  ],
  "metadata": {
    "kernelspec": {
      "display_name": "Python 3",
      "language": "python",
      "name": "python3"
    },
    "language_info": {
      "codemirror_mode": {
        "name": "ipython",
        "version": 3
      },
      "file_extension": ".py",
      "mimetype": "text/x-python",
      "name": "python",
      "nbconvert_exporter": "python",
      "pygments_lexer": "ipython3",
      "version": "3.8.5"
    },
    "colab": {
      "provenance": []
    }
  },
  "nbformat": 4,
  "nbformat_minor": 5
}